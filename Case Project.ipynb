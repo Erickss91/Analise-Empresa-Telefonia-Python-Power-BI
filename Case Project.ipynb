{
 "cells": [
  {
   "cell_type": "markdown",
   "id": "9ce17e47",
   "metadata": {},
   "source": [
    "## Importação de bibliotecas"
   ]
  },
  {
   "cell_type": "code",
   "execution_count": 1,
   "id": "7e1ca293",
   "metadata": {},
   "outputs": [
    {
     "name": "stdout",
     "output_type": "stream",
     "text": [
      "Requirement already satisfied: Unidecode in c:\\users\\erick\\anaconda3\\lib\\site-packages (1.3.3)\n"
     ]
    }
   ],
   "source": [
    "!pip install Unidecode\n",
    "import pandas as pd\n",
    "import unidecode\n",
    "import warnings\n",
    "from datetime import date, time, datetime, timedelta\n",
    "from dateutil.relativedelta import relativedelta\n",
    "warnings.filterwarnings(\"ignore\")"
   ]
  },
  {
   "cell_type": "markdown",
   "id": "9c02fc83",
   "metadata": {},
   "source": [
    "## Importarção de dados"
   ]
  },
  {
   "cell_type": "code",
   "execution_count": 2,
   "id": "8ba5d5ba",
   "metadata": {},
   "outputs": [],
   "source": [
    "df_excel = pd.read_excel('#1 - BaseDados.xlsx')"
   ]
  },
  {
   "cell_type": "code",
   "execution_count": 3,
   "id": "0979c0fd",
   "metadata": {},
   "outputs": [],
   "source": [
    "df_excel = df_excel.drop('Unnamed: 11', axis=1)"
   ]
  },
  {
   "cell_type": "markdown",
   "id": "a38a742c",
   "metadata": {},
   "source": [
    "#### Visualização dos dados"
   ]
  },
  {
   "cell_type": "code",
   "execution_count": 4,
   "id": "f7beb258",
   "metadata": {},
   "outputs": [
    {
     "data": {
      "text/html": [
       "<div>\n",
       "<style scoped>\n",
       "    .dataframe tbody tr th:only-of-type {\n",
       "        vertical-align: middle;\n",
       "    }\n",
       "\n",
       "    .dataframe tbody tr th {\n",
       "        vertical-align: top;\n",
       "    }\n",
       "\n",
       "    .dataframe thead th {\n",
       "        text-align: right;\n",
       "    }\n",
       "</style>\n",
       "<table border=\"1\" class=\"dataframe\">\n",
       "  <thead>\n",
       "    <tr style=\"text-align: right;\">\n",
       "      <th></th>\n",
       "      <th>DT_REF_PAGAMENTO</th>\n",
       "      <th>RAZAO_SOCIAL</th>\n",
       "      <th>CANAL</th>\n",
       "      <th>SEGMENTO</th>\n",
       "      <th>OPERACAO</th>\n",
       "      <th>DESC_FORMA_CALCULO</th>\n",
       "      <th>DESC_TIPO_CALCULO</th>\n",
       "      <th>DESC_TIPO_COMISSAO</th>\n",
       "      <th>VALOR</th>\n",
       "      <th>SIGLA_REGIONAL</th>\n",
       "      <th>NR_DOCUMENTO_SAP</th>\n",
       "    </tr>\n",
       "  </thead>\n",
       "  <tbody>\n",
       "    <tr>\n",
       "      <th>0</th>\n",
       "      <td>2019-01-01</td>\n",
       "      <td>Nullam Lobortis Corporation</td>\n",
       "      <td>CALL CENTER</td>\n",
       "      <td>B2C</td>\n",
       "      <td>MOVEL</td>\n",
       "      <td>CALCULO</td>\n",
       "      <td>SERVICO</td>\n",
       "      <td>DOWNGRADE DE UPGRADE CONTROLE</td>\n",
       "      <td>-5488.41</td>\n",
       "      <td>SPC</td>\n",
       "      <td>5.100787e+09</td>\n",
       "    </tr>\n",
       "    <tr>\n",
       "      <th>1</th>\n",
       "      <td>2019-01-01</td>\n",
       "      <td>Maecenas Malesuada Institute</td>\n",
       "      <td>CALL CENTER</td>\n",
       "      <td>B2C</td>\n",
       "      <td>MOVEL</td>\n",
       "      <td>CALCULO</td>\n",
       "      <td>SERVICO</td>\n",
       "      <td>MD BAIXA POS</td>\n",
       "      <td>-265.57</td>\n",
       "      <td>SPC</td>\n",
       "      <td>5.100787e+09</td>\n",
       "    </tr>\n",
       "    <tr>\n",
       "      <th>2</th>\n",
       "      <td>2019-01-01</td>\n",
       "      <td>Nullam Lobortis Corporation</td>\n",
       "      <td>CALL CENTER</td>\n",
       "      <td>B2C</td>\n",
       "      <td>MOVEL</td>\n",
       "      <td>CALCULO</td>\n",
       "      <td>SERVICO</td>\n",
       "      <td>AJUSTE MIGRAÇÃO</td>\n",
       "      <td>-1777914.52</td>\n",
       "      <td>SPC</td>\n",
       "      <td>5.100787e+09</td>\n",
       "    </tr>\n",
       "    <tr>\n",
       "      <th>3</th>\n",
       "      <td>2019-01-01</td>\n",
       "      <td>Maecenas Malesuada Institute</td>\n",
       "      <td>CALL CENTER</td>\n",
       "      <td>B2C</td>\n",
       "      <td>MOVEL</td>\n",
       "      <td>CALCULO</td>\n",
       "      <td>SERVICO</td>\n",
       "      <td>BAIXA PREMATURA MIGRAÇÃO PRÉ SMARTVIVO CONTROLE</td>\n",
       "      <td>-7519.62</td>\n",
       "      <td>SPC</td>\n",
       "      <td>5.100787e+09</td>\n",
       "    </tr>\n",
       "    <tr>\n",
       "      <th>4</th>\n",
       "      <td>2019-01-01</td>\n",
       "      <td>Maecenas Malesuada Institute</td>\n",
       "      <td>CALL CENTER</td>\n",
       "      <td>B2C</td>\n",
       "      <td>MOVEL</td>\n",
       "      <td>CALCULO</td>\n",
       "      <td>SERVICO</td>\n",
       "      <td>UPGRADE PÓS PAGO</td>\n",
       "      <td>96.08</td>\n",
       "      <td>SPC</td>\n",
       "      <td>5.100787e+09</td>\n",
       "    </tr>\n",
       "    <tr>\n",
       "      <th>5</th>\n",
       "      <td>2019-01-01</td>\n",
       "      <td>Eu Consulting</td>\n",
       "      <td>CALL CENTER</td>\n",
       "      <td>B2C</td>\n",
       "      <td>MOVEL</td>\n",
       "      <td>CALCULO</td>\n",
       "      <td>SERVICO</td>\n",
       "      <td>BAIXA PREMATURA UPGRADE PÓS PAGO</td>\n",
       "      <td>-12227.65</td>\n",
       "      <td>SPC</td>\n",
       "      <td>5.100787e+09</td>\n",
       "    </tr>\n",
       "    <tr>\n",
       "      <th>6</th>\n",
       "      <td>2019-01-01</td>\n",
       "      <td>Maecenas Malesuada Institute</td>\n",
       "      <td>CALL CENTER</td>\n",
       "      <td>B2C</td>\n",
       "      <td>MOVEL</td>\n",
       "      <td>CALCULO</td>\n",
       "      <td>SERVICO</td>\n",
       "      <td>DOWNGRADE DE ALTA PÓS</td>\n",
       "      <td>-596</td>\n",
       "      <td>SPC</td>\n",
       "      <td>5.100787e+09</td>\n",
       "    </tr>\n",
       "    <tr>\n",
       "      <th>7</th>\n",
       "      <td>2019-01-01</td>\n",
       "      <td>Nullam Lobortis Corporation</td>\n",
       "      <td>CALL CENTER</td>\n",
       "      <td>B2C</td>\n",
       "      <td>MOVEL</td>\n",
       "      <td>CALCULO</td>\n",
       "      <td>SERVICO</td>\n",
       "      <td>BAIXA PREMATURA UPGRADE PÓS PAGO</td>\n",
       "      <td>-8865.73</td>\n",
       "      <td>SPC</td>\n",
       "      <td>5.100787e+09</td>\n",
       "    </tr>\n",
       "    <tr>\n",
       "      <th>8</th>\n",
       "      <td>2019-01-01</td>\n",
       "      <td>Nullam Lobortis Corporation</td>\n",
       "      <td>CALL CENTER</td>\n",
       "      <td>B2C</td>\n",
       "      <td>MOVEL</td>\n",
       "      <td>CALCULO</td>\n",
       "      <td>SERVICO</td>\n",
       "      <td>AJUSTE INTERNET MÓVEL</td>\n",
       "      <td>-115.77</td>\n",
       "      <td>SPC</td>\n",
       "      <td>5.100787e+09</td>\n",
       "    </tr>\n",
       "    <tr>\n",
       "      <th>9</th>\n",
       "      <td>2019-01-01</td>\n",
       "      <td>Nullam Lobortis Corporation</td>\n",
       "      <td>CALL CENTER</td>\n",
       "      <td>B2C</td>\n",
       "      <td>MOVEL</td>\n",
       "      <td>CALCULO</td>\n",
       "      <td>SERVICO</td>\n",
       "      <td>MIGRAÇÃO PRÉ SMARTPHONE</td>\n",
       "      <td>53.29</td>\n",
       "      <td>SPC</td>\n",
       "      <td>5.100787e+09</td>\n",
       "    </tr>\n",
       "  </tbody>\n",
       "</table>\n",
       "</div>"
      ],
      "text/plain": [
       "  DT_REF_PAGAMENTO                  RAZAO_SOCIAL        CANAL SEGMENTO  \\\n",
       "0       2019-01-01   Nullam Lobortis Corporation  CALL CENTER      B2C   \n",
       "1       2019-01-01  Maecenas Malesuada Institute  CALL CENTER      B2C   \n",
       "2       2019-01-01   Nullam Lobortis Corporation  CALL CENTER      B2C   \n",
       "3       2019-01-01  Maecenas Malesuada Institute  CALL CENTER      B2C   \n",
       "4       2019-01-01  Maecenas Malesuada Institute  CALL CENTER      B2C   \n",
       "5       2019-01-01                 Eu Consulting  CALL CENTER      B2C   \n",
       "6       2019-01-01  Maecenas Malesuada Institute  CALL CENTER      B2C   \n",
       "7       2019-01-01   Nullam Lobortis Corporation  CALL CENTER      B2C   \n",
       "8       2019-01-01   Nullam Lobortis Corporation  CALL CENTER      B2C   \n",
       "9       2019-01-01   Nullam Lobortis Corporation  CALL CENTER      B2C   \n",
       "\n",
       "  OPERACAO DESC_FORMA_CALCULO DESC_TIPO_CALCULO  \\\n",
       "0    MOVEL            CALCULO           SERVICO   \n",
       "1    MOVEL            CALCULO           SERVICO   \n",
       "2    MOVEL            CALCULO           SERVICO   \n",
       "3    MOVEL            CALCULO           SERVICO   \n",
       "4    MOVEL            CALCULO           SERVICO   \n",
       "5    MOVEL            CALCULO           SERVICO   \n",
       "6    MOVEL            CALCULO           SERVICO   \n",
       "7    MOVEL            CALCULO           SERVICO   \n",
       "8    MOVEL            CALCULO           SERVICO   \n",
       "9    MOVEL            CALCULO           SERVICO   \n",
       "\n",
       "                                DESC_TIPO_COMISSAO      VALOR  SIGLA_REGIONAL  \\\n",
       "0                    DOWNGRADE DE UPGRADE CONTROLE    -5488.41            SPC   \n",
       "1                                     MD BAIXA POS     -265.57            SPC   \n",
       "2                                  AJUSTE MIGRAÇÃO -1777914.52            SPC   \n",
       "3  BAIXA PREMATURA MIGRAÇÃO PRÉ SMARTVIVO CONTROLE    -7519.62            SPC   \n",
       "4                                 UPGRADE PÓS PAGO       96.08            SPC   \n",
       "5                 BAIXA PREMATURA UPGRADE PÓS PAGO   -12227.65            SPC   \n",
       "6                            DOWNGRADE DE ALTA PÓS        -596            SPC   \n",
       "7                 BAIXA PREMATURA UPGRADE PÓS PAGO    -8865.73            SPC   \n",
       "8                            AJUSTE INTERNET MÓVEL     -115.77            SPC   \n",
       "9                          MIGRAÇÃO PRÉ SMARTPHONE       53.29            SPC   \n",
       "\n",
       "   NR_DOCUMENTO_SAP  \n",
       "0      5.100787e+09  \n",
       "1      5.100787e+09  \n",
       "2      5.100787e+09  \n",
       "3      5.100787e+09  \n",
       "4      5.100787e+09  \n",
       "5      5.100787e+09  \n",
       "6      5.100787e+09  \n",
       "7      5.100787e+09  \n",
       "8      5.100787e+09  \n",
       "9      5.100787e+09  "
      ]
     },
     "execution_count": 4,
     "metadata": {},
     "output_type": "execute_result"
    }
   ],
   "source": [
    "df_excel.head(10)"
   ]
  },
  {
   "cell_type": "markdown",
   "id": "de65fcd0",
   "metadata": {},
   "source": [
    "#### Verificação das colunas"
   ]
  },
  {
   "cell_type": "code",
   "execution_count": 5,
   "id": "9b702b63",
   "metadata": {},
   "outputs": [
    {
     "name": "stdout",
     "output_type": "stream",
     "text": [
      "<class 'pandas.core.frame.DataFrame'>\n",
      "RangeIndex: 106795 entries, 0 to 106794\n",
      "Data columns (total 11 columns):\n",
      " #   Column              Non-Null Count   Dtype         \n",
      "---  ------              --------------   -----         \n",
      " 0   DT_REF_PAGAMENTO    106712 non-null  datetime64[ns]\n",
      " 1   RAZAO_SOCIAL        106706 non-null  object        \n",
      " 2   CANAL               106706 non-null  object        \n",
      " 3   SEGMENTO            106706 non-null  object        \n",
      " 4   OPERACAO            106706 non-null  object        \n",
      " 5   DESC_FORMA_CALCULO  106706 non-null  object        \n",
      " 6   DESC_TIPO_CALCULO   106706 non-null  object        \n",
      " 7   DESC_TIPO_COMISSAO  106706 non-null  object        \n",
      " 8    VALOR              106712 non-null  object        \n",
      " 9   SIGLA_REGIONAL      106706 non-null  object        \n",
      " 10  NR_DOCUMENTO_SAP    106706 non-null  float64       \n",
      "dtypes: datetime64[ns](1), float64(1), object(9)\n",
      "memory usage: 9.0+ MB\n"
     ]
    }
   ],
   "source": [
    "df_excel.info()"
   ]
  },
  {
   "cell_type": "code",
   "execution_count": 6,
   "id": "d41901cf",
   "metadata": {},
   "outputs": [
    {
     "data": {
      "text/plain": [
       "Index(['DT_REF_PAGAMENTO', 'RAZAO_SOCIAL', 'CANAL', 'SEGMENTO', 'OPERACAO',\n",
       "       'DESC_FORMA_CALCULO', 'DESC_TIPO_CALCULO', 'DESC_TIPO_COMISSAO',\n",
       "       ' VALOR ', 'SIGLA_REGIONAL', 'NR_DOCUMENTO_SAP'],\n",
       "      dtype='object')"
      ]
     },
     "execution_count": 6,
     "metadata": {},
     "output_type": "execute_result"
    }
   ],
   "source": [
    "df_excel.columns"
   ]
  },
  {
   "cell_type": "code",
   "execution_count": 7,
   "id": "bf12cc20",
   "metadata": {},
   "outputs": [
    {
     "data": {
      "text/plain": [
       "Index(['DT_REF_PAGAMENTO', 'RAZAO_SOCIAL', 'CANAL', 'SEGMENTO', 'OPERACAO',\n",
       "       'DESC_FORMA_CALCULO', 'DESC_TIPO_CALCULO', 'DESC_TIPO_COMISSAO',\n",
       "       'VALOR', 'SIGLA_REGIONAL', 'NR_DOCUMENTO_SAP'],\n",
       "      dtype='object')"
      ]
     },
     "execution_count": 7,
     "metadata": {},
     "output_type": "execute_result"
    }
   ],
   "source": [
    "df_excel.columns.str.strip()"
   ]
  },
  {
   "cell_type": "markdown",
   "id": "209446d6",
   "metadata": {},
   "source": [
    "## Padronização da data"
   ]
  },
  {
   "cell_type": "code",
   "execution_count": 8,
   "id": "e14bb4c5",
   "metadata": {},
   "outputs": [],
   "source": [
    "df_data = df_excel['DT_REF_PAGAMENTO']"
   ]
  },
  {
   "cell_type": "code",
   "execution_count": 9,
   "id": "1b1218a4",
   "metadata": {},
   "outputs": [
    {
     "data": {
      "text/plain": [
       "2019-03-01    20081\n",
       "2019-02-01    19698\n",
       "2019-01-01    18238\n",
       "2020-01-01    17240\n",
       "2020-02-01    16986\n",
       "2020-03-01    14453\n",
       "2019-01-03        4\n",
       "2019-01-02        4\n",
       "2020-01-03        4\n",
       "2020-01-02        4\n",
       "Name: DT_REF_PAGAMENTO, dtype: int64"
      ]
     },
     "execution_count": 9,
     "metadata": {},
     "output_type": "execute_result"
    }
   ],
   "source": [
    "df_data.value_counts()"
   ]
  },
  {
   "cell_type": "code",
   "execution_count": 10,
   "id": "3792a731",
   "metadata": {},
   "outputs": [],
   "source": [
    "df_excel['DT_REF_PAGAMENTO'] = df_excel['DT_REF_PAGAMENTO'].apply(lambda _: str(_))"
   ]
  },
  {
   "cell_type": "code",
   "execution_count": 11,
   "id": "a8888a6d",
   "metadata": {},
   "outputs": [],
   "source": [
    "df_excel['DT_REF_PAGAMENTO'].replace({'2019-03-01 00:00:00':'2019-03-01','2019-02-01 00:00:00':'2019-02-01','2019-03-01 00:00:00':'2019-03-01','2020-02-01 00:00:00':'2020-02-01', '2020-03-01 00:00:00':'2020-03-01', '2019-01-01 00:00:00':'2019-01-01', '2020-01-01 00:00:00':'2020-01-01'}, inplace=True)"
   ]
  },
  {
   "cell_type": "code",
   "execution_count": 12,
   "id": "5826ff29",
   "metadata": {},
   "outputs": [],
   "source": [
    "df_excel['DT_REF_PAGAMENTO'].replace({'2019-01-03 00:00:00':'2019-03-01','2019-01-02 00:00:00':'2019-02-01','2019-01-03 00:00:00':'2019-03-01','2020-01-02 00:00:00':'2020-02-01', '2020-01-03 00:00:00':'2020-03-01'}, inplace=True)"
   ]
  },
  {
   "cell_type": "code",
   "execution_count": 13,
   "id": "8d03de28",
   "metadata": {
    "scrolled": true
   },
   "outputs": [
    {
     "data": {
      "text/plain": [
       "2019-03-01    20085\n",
       "2019-02-01    19702\n",
       "2019-01-01    18238\n",
       "2020-01-01    17240\n",
       "2020-02-01    16990\n",
       "2020-03-01    14457\n",
       "NaT              83\n",
       "Name: DT_REF_PAGAMENTO, dtype: int64"
      ]
     },
     "execution_count": 13,
     "metadata": {},
     "output_type": "execute_result"
    }
   ],
   "source": [
    "df_excel['DT_REF_PAGAMENTO'].value_counts()"
   ]
  },
  {
   "cell_type": "code",
   "execution_count": 14,
   "id": "7b13494f",
   "metadata": {},
   "outputs": [],
   "source": [
    "#datetime.strptime(df_data, \"%d-%m-%Y\")"
   ]
  },
  {
   "cell_type": "code",
   "execution_count": 15,
   "id": "ee3c3c5d",
   "metadata": {},
   "outputs": [],
   "source": [
    "#df_country.sort_values(ascending=True).drop_duplicates().head(50)"
   ]
  },
  {
   "cell_type": "markdown",
   "id": "98da722f",
   "metadata": {},
   "source": [
    "### Padronização dos dados de 'Razão Social'"
   ]
  },
  {
   "cell_type": "code",
   "execution_count": 16,
   "id": "a1d5c2ed",
   "metadata": {},
   "outputs": [],
   "source": [
    "df_excel['RAZAO_SOCIAL'] = df_excel['RAZAO_SOCIAL'].str.upper()"
   ]
  },
  {
   "cell_type": "code",
   "execution_count": 17,
   "id": "3b095cdb",
   "metadata": {},
   "outputs": [
    {
     "data": {
      "text/html": [
       "<div>\n",
       "<style scoped>\n",
       "    .dataframe tbody tr th:only-of-type {\n",
       "        vertical-align: middle;\n",
       "    }\n",
       "\n",
       "    .dataframe tbody tr th {\n",
       "        vertical-align: top;\n",
       "    }\n",
       "\n",
       "    .dataframe thead th {\n",
       "        text-align: right;\n",
       "    }\n",
       "</style>\n",
       "<table border=\"1\" class=\"dataframe\">\n",
       "  <thead>\n",
       "    <tr style=\"text-align: right;\">\n",
       "      <th></th>\n",
       "      <th>DT_REF_PAGAMENTO</th>\n",
       "      <th>RAZAO_SOCIAL</th>\n",
       "      <th>CANAL</th>\n",
       "      <th>SEGMENTO</th>\n",
       "      <th>OPERACAO</th>\n",
       "      <th>DESC_FORMA_CALCULO</th>\n",
       "      <th>DESC_TIPO_CALCULO</th>\n",
       "      <th>DESC_TIPO_COMISSAO</th>\n",
       "      <th>VALOR</th>\n",
       "      <th>SIGLA_REGIONAL</th>\n",
       "      <th>NR_DOCUMENTO_SAP</th>\n",
       "    </tr>\n",
       "  </thead>\n",
       "  <tbody>\n",
       "    <tr>\n",
       "      <th>0</th>\n",
       "      <td>2019-01-01</td>\n",
       "      <td>NULLAM LOBORTIS CORPORATION</td>\n",
       "      <td>CALL CENTER</td>\n",
       "      <td>B2C</td>\n",
       "      <td>MOVEL</td>\n",
       "      <td>CALCULO</td>\n",
       "      <td>SERVICO</td>\n",
       "      <td>DOWNGRADE DE UPGRADE CONTROLE</td>\n",
       "      <td>-5488.41</td>\n",
       "      <td>SPC</td>\n",
       "      <td>5.100787e+09</td>\n",
       "    </tr>\n",
       "    <tr>\n",
       "      <th>1</th>\n",
       "      <td>2019-01-01</td>\n",
       "      <td>MAECENAS MALESUADA INSTITUTE</td>\n",
       "      <td>CALL CENTER</td>\n",
       "      <td>B2C</td>\n",
       "      <td>MOVEL</td>\n",
       "      <td>CALCULO</td>\n",
       "      <td>SERVICO</td>\n",
       "      <td>MD BAIXA POS</td>\n",
       "      <td>-265.57</td>\n",
       "      <td>SPC</td>\n",
       "      <td>5.100787e+09</td>\n",
       "    </tr>\n",
       "    <tr>\n",
       "      <th>2</th>\n",
       "      <td>2019-01-01</td>\n",
       "      <td>NULLAM LOBORTIS CORPORATION</td>\n",
       "      <td>CALL CENTER</td>\n",
       "      <td>B2C</td>\n",
       "      <td>MOVEL</td>\n",
       "      <td>CALCULO</td>\n",
       "      <td>SERVICO</td>\n",
       "      <td>AJUSTE MIGRAÇÃO</td>\n",
       "      <td>-1777914.52</td>\n",
       "      <td>SPC</td>\n",
       "      <td>5.100787e+09</td>\n",
       "    </tr>\n",
       "    <tr>\n",
       "      <th>3</th>\n",
       "      <td>2019-01-01</td>\n",
       "      <td>MAECENAS MALESUADA INSTITUTE</td>\n",
       "      <td>CALL CENTER</td>\n",
       "      <td>B2C</td>\n",
       "      <td>MOVEL</td>\n",
       "      <td>CALCULO</td>\n",
       "      <td>SERVICO</td>\n",
       "      <td>BAIXA PREMATURA MIGRAÇÃO PRÉ SMARTVIVO CONTROLE</td>\n",
       "      <td>-7519.62</td>\n",
       "      <td>SPC</td>\n",
       "      <td>5.100787e+09</td>\n",
       "    </tr>\n",
       "    <tr>\n",
       "      <th>4</th>\n",
       "      <td>2019-01-01</td>\n",
       "      <td>MAECENAS MALESUADA INSTITUTE</td>\n",
       "      <td>CALL CENTER</td>\n",
       "      <td>B2C</td>\n",
       "      <td>MOVEL</td>\n",
       "      <td>CALCULO</td>\n",
       "      <td>SERVICO</td>\n",
       "      <td>UPGRADE PÓS PAGO</td>\n",
       "      <td>96.08</td>\n",
       "      <td>SPC</td>\n",
       "      <td>5.100787e+09</td>\n",
       "    </tr>\n",
       "    <tr>\n",
       "      <th>5</th>\n",
       "      <td>2019-01-01</td>\n",
       "      <td>EU CONSULTING</td>\n",
       "      <td>CALL CENTER</td>\n",
       "      <td>B2C</td>\n",
       "      <td>MOVEL</td>\n",
       "      <td>CALCULO</td>\n",
       "      <td>SERVICO</td>\n",
       "      <td>BAIXA PREMATURA UPGRADE PÓS PAGO</td>\n",
       "      <td>-12227.65</td>\n",
       "      <td>SPC</td>\n",
       "      <td>5.100787e+09</td>\n",
       "    </tr>\n",
       "    <tr>\n",
       "      <th>6</th>\n",
       "      <td>2019-01-01</td>\n",
       "      <td>MAECENAS MALESUADA INSTITUTE</td>\n",
       "      <td>CALL CENTER</td>\n",
       "      <td>B2C</td>\n",
       "      <td>MOVEL</td>\n",
       "      <td>CALCULO</td>\n",
       "      <td>SERVICO</td>\n",
       "      <td>DOWNGRADE DE ALTA PÓS</td>\n",
       "      <td>-596</td>\n",
       "      <td>SPC</td>\n",
       "      <td>5.100787e+09</td>\n",
       "    </tr>\n",
       "    <tr>\n",
       "      <th>7</th>\n",
       "      <td>2019-01-01</td>\n",
       "      <td>NULLAM LOBORTIS CORPORATION</td>\n",
       "      <td>CALL CENTER</td>\n",
       "      <td>B2C</td>\n",
       "      <td>MOVEL</td>\n",
       "      <td>CALCULO</td>\n",
       "      <td>SERVICO</td>\n",
       "      <td>BAIXA PREMATURA UPGRADE PÓS PAGO</td>\n",
       "      <td>-8865.73</td>\n",
       "      <td>SPC</td>\n",
       "      <td>5.100787e+09</td>\n",
       "    </tr>\n",
       "    <tr>\n",
       "      <th>8</th>\n",
       "      <td>2019-01-01</td>\n",
       "      <td>NULLAM LOBORTIS CORPORATION</td>\n",
       "      <td>CALL CENTER</td>\n",
       "      <td>B2C</td>\n",
       "      <td>MOVEL</td>\n",
       "      <td>CALCULO</td>\n",
       "      <td>SERVICO</td>\n",
       "      <td>AJUSTE INTERNET MÓVEL</td>\n",
       "      <td>-115.77</td>\n",
       "      <td>SPC</td>\n",
       "      <td>5.100787e+09</td>\n",
       "    </tr>\n",
       "    <tr>\n",
       "      <th>9</th>\n",
       "      <td>2019-01-01</td>\n",
       "      <td>NULLAM LOBORTIS CORPORATION</td>\n",
       "      <td>CALL CENTER</td>\n",
       "      <td>B2C</td>\n",
       "      <td>MOVEL</td>\n",
       "      <td>CALCULO</td>\n",
       "      <td>SERVICO</td>\n",
       "      <td>MIGRAÇÃO PRÉ SMARTPHONE</td>\n",
       "      <td>53.29</td>\n",
       "      <td>SPC</td>\n",
       "      <td>5.100787e+09</td>\n",
       "    </tr>\n",
       "  </tbody>\n",
       "</table>\n",
       "</div>"
      ],
      "text/plain": [
       "  DT_REF_PAGAMENTO                  RAZAO_SOCIAL        CANAL SEGMENTO  \\\n",
       "0       2019-01-01   NULLAM LOBORTIS CORPORATION  CALL CENTER      B2C   \n",
       "1       2019-01-01  MAECENAS MALESUADA INSTITUTE  CALL CENTER      B2C   \n",
       "2       2019-01-01   NULLAM LOBORTIS CORPORATION  CALL CENTER      B2C   \n",
       "3       2019-01-01  MAECENAS MALESUADA INSTITUTE  CALL CENTER      B2C   \n",
       "4       2019-01-01  MAECENAS MALESUADA INSTITUTE  CALL CENTER      B2C   \n",
       "5       2019-01-01                 EU CONSULTING  CALL CENTER      B2C   \n",
       "6       2019-01-01  MAECENAS MALESUADA INSTITUTE  CALL CENTER      B2C   \n",
       "7       2019-01-01   NULLAM LOBORTIS CORPORATION  CALL CENTER      B2C   \n",
       "8       2019-01-01   NULLAM LOBORTIS CORPORATION  CALL CENTER      B2C   \n",
       "9       2019-01-01   NULLAM LOBORTIS CORPORATION  CALL CENTER      B2C   \n",
       "\n",
       "  OPERACAO DESC_FORMA_CALCULO DESC_TIPO_CALCULO  \\\n",
       "0    MOVEL            CALCULO           SERVICO   \n",
       "1    MOVEL            CALCULO           SERVICO   \n",
       "2    MOVEL            CALCULO           SERVICO   \n",
       "3    MOVEL            CALCULO           SERVICO   \n",
       "4    MOVEL            CALCULO           SERVICO   \n",
       "5    MOVEL            CALCULO           SERVICO   \n",
       "6    MOVEL            CALCULO           SERVICO   \n",
       "7    MOVEL            CALCULO           SERVICO   \n",
       "8    MOVEL            CALCULO           SERVICO   \n",
       "9    MOVEL            CALCULO           SERVICO   \n",
       "\n",
       "                                DESC_TIPO_COMISSAO      VALOR  SIGLA_REGIONAL  \\\n",
       "0                    DOWNGRADE DE UPGRADE CONTROLE    -5488.41            SPC   \n",
       "1                                     MD BAIXA POS     -265.57            SPC   \n",
       "2                                  AJUSTE MIGRAÇÃO -1777914.52            SPC   \n",
       "3  BAIXA PREMATURA MIGRAÇÃO PRÉ SMARTVIVO CONTROLE    -7519.62            SPC   \n",
       "4                                 UPGRADE PÓS PAGO       96.08            SPC   \n",
       "5                 BAIXA PREMATURA UPGRADE PÓS PAGO   -12227.65            SPC   \n",
       "6                            DOWNGRADE DE ALTA PÓS        -596            SPC   \n",
       "7                 BAIXA PREMATURA UPGRADE PÓS PAGO    -8865.73            SPC   \n",
       "8                            AJUSTE INTERNET MÓVEL     -115.77            SPC   \n",
       "9                          MIGRAÇÃO PRÉ SMARTPHONE       53.29            SPC   \n",
       "\n",
       "   NR_DOCUMENTO_SAP  \n",
       "0      5.100787e+09  \n",
       "1      5.100787e+09  \n",
       "2      5.100787e+09  \n",
       "3      5.100787e+09  \n",
       "4      5.100787e+09  \n",
       "5      5.100787e+09  \n",
       "6      5.100787e+09  \n",
       "7      5.100787e+09  \n",
       "8      5.100787e+09  \n",
       "9      5.100787e+09  "
      ]
     },
     "execution_count": 17,
     "metadata": {},
     "output_type": "execute_result"
    }
   ],
   "source": [
    "df_excel.head(10)"
   ]
  },
  {
   "cell_type": "code",
   "execution_count": 18,
   "id": "9da84079",
   "metadata": {},
   "outputs": [
    {
     "data": {
      "text/plain": [
       "LECTUS INSTITUTE             3918\n",
       "MAURIS MAGNA COMPANY         2917\n",
       "LACUS ETIAM CORP.            2719\n",
       "NON LACINIA LIMITED          2687\n",
       "EROS NON LIMITED             2462\n",
       "                             ... \n",
       "MAGNA LIMITED                   1\n",
       "VENENATIS LIMITED               1\n",
       "TELLUS AENEAN CORPORATION       1\n",
       "IMPERDIET LTD                   1\n",
       "EU TEMPOR ERAT LLC              1\n",
       "Name: RAZAO_SOCIAL, Length: 1014, dtype: int64"
      ]
     },
     "execution_count": 18,
     "metadata": {},
     "output_type": "execute_result"
    }
   ],
   "source": [
    "df_excel['RAZAO_SOCIAL'].value_counts()"
   ]
  },
  {
   "cell_type": "markdown",
   "id": "af25d5b2",
   "metadata": {},
   "source": [
    "## Limpeza dos dados"
   ]
  },
  {
   "cell_type": "code",
   "execution_count": 19,
   "id": "afb005b1",
   "metadata": {},
   "outputs": [],
   "source": [
    "df_excel['RAZAO_SOCIAL'] = df_excel['RAZAO_SOCIAL'].str.replace('Ã','A')\n",
    "df_excel['RAZAO_SOCIAL'] = df_excel['RAZAO_SOCIAL'].str.replace('À','A')\n",
    "df_excel['RAZAO_SOCIAL'] = df_excel['RAZAO_SOCIAL'].str.replace('Á','A')\n",
    "\n",
    "df_excel['RAZAO_SOCIAL'] = df_excel['RAZAO_SOCIAL'].str.replace('Ó','O')\n",
    "df_excel['RAZAO_SOCIAL'] = df_excel['RAZAO_SOCIAL'].str.replace('Ô','O')\n",
    "df_excel['RAZAO_SOCIAL'] = df_excel['RAZAO_SOCIAL'].str.replace('Ò','O')\n",
    "\n",
    "\n",
    "df_excel['RAZAO_SOCIAL'] = df_excel['RAZAO_SOCIAL'].str.replace('É','E')\n",
    "df_excel['RAZAO_SOCIAL'] = df_excel['RAZAO_SOCIAL'].str.replace('È','E')\n",
    "df_excel['RAZAO_SOCIAL'] = df_excel['RAZAO_SOCIAL'].str.replace('Ê','E')\n",
    "\n",
    "df_excel['RAZAO_SOCIAL'] = df_excel['RAZAO_SOCIAL'].str.replace('í','I')\n",
    "df_excel['RAZAO_SOCIAL'] = df_excel['RAZAO_SOCIAL'].str.replace('ì','I')\n",
    "\n",
    "df_excel['RAZAO_SOCIAL'] = df_excel['RAZAO_SOCIAL'].str.replace('Ç','C')\n",
    "\n",
    "df_excel['RAZAO_SOCIAL'] = df_excel['RAZAO_SOCIAL'].str.replace('.', '')\n",
    "df_excel['RAZAO_SOCIAL'] = df_excel['RAZAO_SOCIAL'].str.replace('#', '')\n",
    "df_excel['RAZAO_SOCIAL'] = df_excel['RAZAO_SOCIAL'].str.replace('*', '')"
   ]
  },
  {
   "cell_type": "code",
   "execution_count": 20,
   "id": "83d19ffc",
   "metadata": {},
   "outputs": [],
   "source": [
    "df_excel['DESC_TIPO_COMISSAO'] = df_excel['DESC_TIPO_COMISSAO'].str.replace('Ã','A')\n",
    "df_excel['DESC_TIPO_COMISSAO'] = df_excel['DESC_TIPO_COMISSAO'].str.replace('À','A')\n",
    "df_excel['DESC_TIPO_COMISSAO'] = df_excel['DESC_TIPO_COMISSAO'].str.replace('Á','A')\n",
    "\n",
    "df_excel['DESC_TIPO_COMISSAO'] = df_excel['DESC_TIPO_COMISSAO'].str.replace('Ó','O')\n",
    "df_excel['DESC_TIPO_COMISSAO'] = df_excel['DESC_TIPO_COMISSAO'].str.replace('Ô','O')\n",
    "df_excel['DESC_TIPO_COMISSAO'] = df_excel['DESC_TIPO_COMISSAO'].str.replace('Ò','O')\n",
    "\n",
    "\n",
    "df_excel['DESC_TIPO_COMISSAO'] = df_excel['DESC_TIPO_COMISSAO'].str.replace('É','E')\n",
    "df_excel['DESC_TIPO_COMISSAO'] = df_excel['DESC_TIPO_COMISSAO'].str.replace('È','E')\n",
    "df_excel['DESC_TIPO_COMISSAO'] = df_excel['DESC_TIPO_COMISSAO'].str.replace('Ê','E')\n",
    "\n",
    "df_excel['DESC_TIPO_COMISSAO'] = df_excel['DESC_TIPO_COMISSAO'].str.replace('í','I')\n",
    "df_excel['DESC_TIPO_COMISSAO'] = df_excel['DESC_TIPO_COMISSAO'].str.replace('ì','I')\n",
    "\n",
    "df_excel['DESC_TIPO_COMISSAO'] = df_excel['DESC_TIPO_COMISSAO'].str.replace('Ç','C')\n",
    "\n",
    "df_excel['DESC_TIPO_COMISSAO'] = df_excel['DESC_TIPO_COMISSAO'].str.replace('.', '')\n",
    "df_excel['DESC_TIPO_COMISSAO'] = df_excel['DESC_TIPO_COMISSAO'].str.replace('#', '')\n",
    "df_excel['DESC_TIPO_COMISSAO'] = df_excel['DESC_TIPO_COMISSAO'].str.replace('*', '')"
   ]
  },
  {
   "cell_type": "markdown",
   "id": "7f0cb16a",
   "metadata": {},
   "source": [
    "#### Verificação de 'Canais'"
   ]
  },
  {
   "cell_type": "code",
   "execution_count": 21,
   "id": "4022d1aa",
   "metadata": {
    "scrolled": true
   },
   "outputs": [
    {
     "data": {
      "text/plain": [
       "REVENDA                 91662\n",
       "CONSULTIVO UNIFICADO    14488\n",
       "CALL CENTER               373\n",
       "CORPORATIVO               183\n",
       "Name: CANAL, dtype: int64"
      ]
     },
     "execution_count": 21,
     "metadata": {},
     "output_type": "execute_result"
    }
   ],
   "source": [
    "df_excel['CANAL'].value_counts()"
   ]
  },
  {
   "cell_type": "markdown",
   "id": "51ce3d92",
   "metadata": {},
   "source": [
    "#### Verificação de 'Segmentos'"
   ]
  },
  {
   "cell_type": "code",
   "execution_count": 22,
   "id": "1351bfb6",
   "metadata": {},
   "outputs": [
    {
     "data": {
      "text/plain": [
       "B2C    92035\n",
       "B2B    14671\n",
       "Name: SEGMENTO, dtype: int64"
      ]
     },
     "execution_count": 22,
     "metadata": {},
     "output_type": "execute_result"
    }
   ],
   "source": [
    "df_excel['SEGMENTO'].value_counts()"
   ]
  },
  {
   "cell_type": "markdown",
   "id": "7da357ff",
   "metadata": {},
   "source": [
    "#### Verificação de 'Operações'"
   ]
  },
  {
   "cell_type": "code",
   "execution_count": 23,
   "id": "1ecd8c8c",
   "metadata": {},
   "outputs": [
    {
     "data": {
      "text/plain": [
       "MOVEL    102762\n",
       "FIXA       3944\n",
       "Name: OPERACAO, dtype: int64"
      ]
     },
     "execution_count": 23,
     "metadata": {},
     "output_type": "execute_result"
    }
   ],
   "source": [
    "df_excel['OPERACAO'].value_counts()"
   ]
  },
  {
   "cell_type": "markdown",
   "id": "cf794cfb",
   "metadata": {},
   "source": [
    "#### Verificação de 'Form Calc'"
   ]
  },
  {
   "cell_type": "code",
   "execution_count": 24,
   "id": "972f9d7a",
   "metadata": {
    "scrolled": true
   },
   "outputs": [
    {
     "data": {
      "text/plain": [
       "CALCULO      96206\n",
       "RECALCULO    10500\n",
       "Name: DESC_FORMA_CALCULO, dtype: int64"
      ]
     },
     "execution_count": 24,
     "metadata": {},
     "output_type": "execute_result"
    }
   ],
   "source": [
    "df_excel['DESC_FORMA_CALCULO'].value_counts()"
   ]
  },
  {
   "cell_type": "markdown",
   "id": "bd76e417",
   "metadata": {},
   "source": [
    "#### Verificação de 'Tipo Calc'"
   ]
  },
  {
   "cell_type": "code",
   "execution_count": 25,
   "id": "04777484",
   "metadata": {
    "scrolled": true
   },
   "outputs": [
    {
     "data": {
      "text/plain": [
       "SERVICO    106706\n",
       "Name: DESC_TIPO_CALCULO, dtype: int64"
      ]
     },
     "execution_count": 25,
     "metadata": {},
     "output_type": "execute_result"
    }
   ],
   "source": [
    "df_excel['DESC_TIPO_CALCULO'].value_counts()"
   ]
  },
  {
   "cell_type": "markdown",
   "id": "852d17cc",
   "metadata": {},
   "source": [
    "#### Verificação de 'Regional'"
   ]
  },
  {
   "cell_type": "code",
   "execution_count": 26,
   "id": "7dd942f0",
   "metadata": {},
   "outputs": [
    {
     "data": {
      "text/plain": [
       "MG       25550\n",
       "SPC      16263\n",
       "RS       15764\n",
       "CO/N     15057\n",
       "PR/SC    12689\n",
       "RJ/ES     9657\n",
       "BA/SE     6353\n",
       "NE        5373\n",
       "Name: SIGLA_REGIONAL, dtype: int64"
      ]
     },
     "execution_count": 26,
     "metadata": {},
     "output_type": "execute_result"
    }
   ],
   "source": [
    "df_excel['SIGLA_REGIONAL'].value_counts()"
   ]
  },
  {
   "cell_type": "markdown",
   "id": "d1e1a14d",
   "metadata": {},
   "source": [
    "#### Verificação de 'Tipo Comissão'"
   ]
  },
  {
   "cell_type": "code",
   "execution_count": 27,
   "id": "e886bd5e",
   "metadata": {
    "scrolled": true
   },
   "outputs": [
    {
     "data": {
      "text/plain": [
       "ALTA SMARTVIVO CONTROLE                         5146\n",
       "MIGRACAO PRE SMARTVIVO CONTROLE                 5107\n",
       "ALTA SMARTVIVO CONTROLE PORTABILIDADE           3888\n",
       "BONUS POR ATINGIMENTO DE METAS                  3619\n",
       "ALTA INTERNET MOVEL                             2889\n",
       "                                                ... \n",
       "BONIFICACAO POR METAS (MOVEL)                      1\n",
       "BAIXA PREMATURA PAC MINUTOS MOVEL                  1\n",
       "BAIXA SUSPENSAO UPGRADE INTERNET MOVEL (PEN)       1\n",
       "BAIXA UPGRADE INTERNET MOVEL                       1\n",
       "DOWNGRADE INTERNET BOX (FIXO)                      1\n",
       "Name: DESC_TIPO_COMISSAO, Length: 227, dtype: int64"
      ]
     },
     "execution_count": 27,
     "metadata": {},
     "output_type": "execute_result"
    }
   ],
   "source": [
    "df_excel['DESC_TIPO_COMISSAO'].value_counts()"
   ]
  },
  {
   "cell_type": "code",
   "execution_count": 28,
   "id": "980bf98b",
   "metadata": {
    "scrolled": true
   },
   "outputs": [
    {
     "data": {
      "text/plain": [
       "False    106706\n",
       "True         89\n",
       "Name: DESC_TIPO_COMISSAO, dtype: int64"
      ]
     },
     "execution_count": 28,
     "metadata": {},
     "output_type": "execute_result"
    }
   ],
   "source": [
    "df_excel['DESC_TIPO_COMISSAO'].isnull().value_counts()"
   ]
  },
  {
   "cell_type": "markdown",
   "id": "69302c7b",
   "metadata": {},
   "source": [
    "## Simplificação da coluna 'tipo de Comissão'"
   ]
  },
  {
   "cell_type": "code",
   "execution_count": 29,
   "id": "64343d3a",
   "metadata": {},
   "outputs": [],
   "source": [
    "df_ndoc2 = df_excel['DESC_TIPO_COMISSAO']"
   ]
  },
  {
   "cell_type": "code",
   "execution_count": 30,
   "id": "0f69090d",
   "metadata": {},
   "outputs": [],
   "source": [
    "df_ndoc2 = df_ndoc2.dropna(axis=0)"
   ]
  },
  {
   "cell_type": "code",
   "execution_count": 31,
   "id": "ee77ce3d",
   "metadata": {},
   "outputs": [
    {
     "data": {
      "text/plain": [
       "False    106706\n",
       "Name: DESC_TIPO_COMISSAO, dtype: object"
      ]
     },
     "execution_count": 31,
     "metadata": {},
     "output_type": "execute_result"
    }
   ],
   "source": [
    "df_ndoc2.isnull().value_counts().astype(str)"
   ]
  },
  {
   "cell_type": "code",
   "execution_count": 32,
   "id": "68ee0b51",
   "metadata": {},
   "outputs": [],
   "source": [
    "df_excel['DESC_TIPO_COMISSAO'] = df_excel['DESC_TIPO_COMISSAO'].fillna(\"\")"
   ]
  },
  {
   "cell_type": "code",
   "execution_count": 33,
   "id": "01dc89bf",
   "metadata": {},
   "outputs": [],
   "source": [
    "Macro_Tipo = []\n",
    "for line in df_excel['DESC_TIPO_COMISSAO']:\n",
    "        word = line.split(\" \")[0]\n",
    "        Macro_Tipo.append(word)"
   ]
  },
  {
   "cell_type": "code",
   "execution_count": 34,
   "id": "62e54c7d",
   "metadata": {},
   "outputs": [],
   "source": [
    "df_excel = df_excel.assign(Macro_Tipo=Macro_Tipo)"
   ]
  },
  {
   "cell_type": "code",
   "execution_count": 35,
   "id": "0012e7ab",
   "metadata": {},
   "outputs": [
    {
     "data": {
      "text/plain": [
       "ALTA              27653\n",
       "BAIXA             17256\n",
       "CARTEIRA          13088\n",
       "UPGRADE           12779\n",
       "MIGRACAO           6903\n",
       "MD                 6424\n",
       "BONUS              5304\n",
       "INCENTIVO          3630\n",
       "DOWNGRADE          2545\n",
       "FIDELIZACAO        2335\n",
       "ESTORNO            1780\n",
       "CAMPANHA           1348\n",
       "OUTROS             1193\n",
       "GESTAO             1024\n",
       "INTERNET            905\n",
       "TROCA               794\n",
       "ADICIONAL           741\n",
       "AJUSTE              397\n",
       "INVERSAO            396\n",
       "IRREGULARIDADE      133\n",
       "                     89\n",
       "REDUTOR              75\n",
       "COMISSAO              2\n",
       "BONIFICACAO           1\n",
       "Name: Macro_Tipo, dtype: int64"
      ]
     },
     "execution_count": 35,
     "metadata": {},
     "output_type": "execute_result"
    }
   ],
   "source": [
    "df_excel['Macro_Tipo'].value_counts()"
   ]
  },
  {
   "cell_type": "markdown",
   "id": "a1e3cefe",
   "metadata": {},
   "source": [
    "## Verificação Final dos dados"
   ]
  },
  {
   "cell_type": "code",
   "execution_count": 36,
   "id": "62f95b2f",
   "metadata": {},
   "outputs": [
    {
     "data": {
      "text/html": [
       "<div>\n",
       "<style scoped>\n",
       "    .dataframe tbody tr th:only-of-type {\n",
       "        vertical-align: middle;\n",
       "    }\n",
       "\n",
       "    .dataframe tbody tr th {\n",
       "        vertical-align: top;\n",
       "    }\n",
       "\n",
       "    .dataframe thead th {\n",
       "        text-align: right;\n",
       "    }\n",
       "</style>\n",
       "<table border=\"1\" class=\"dataframe\">\n",
       "  <thead>\n",
       "    <tr style=\"text-align: right;\">\n",
       "      <th></th>\n",
       "      <th>DT_REF_PAGAMENTO</th>\n",
       "      <th>RAZAO_SOCIAL</th>\n",
       "      <th>CANAL</th>\n",
       "      <th>SEGMENTO</th>\n",
       "      <th>OPERACAO</th>\n",
       "      <th>DESC_FORMA_CALCULO</th>\n",
       "      <th>DESC_TIPO_CALCULO</th>\n",
       "      <th>DESC_TIPO_COMISSAO</th>\n",
       "      <th>VALOR</th>\n",
       "      <th>SIGLA_REGIONAL</th>\n",
       "      <th>NR_DOCUMENTO_SAP</th>\n",
       "      <th>Macro_Tipo</th>\n",
       "    </tr>\n",
       "  </thead>\n",
       "  <tbody>\n",
       "    <tr>\n",
       "      <th>0</th>\n",
       "      <td>2019-01-01</td>\n",
       "      <td>NULLAM LOBORTIS CORPORATION</td>\n",
       "      <td>CALL CENTER</td>\n",
       "      <td>B2C</td>\n",
       "      <td>MOVEL</td>\n",
       "      <td>CALCULO</td>\n",
       "      <td>SERVICO</td>\n",
       "      <td>DOWNGRADE DE UPGRADE CONTROLE</td>\n",
       "      <td>-5488.41</td>\n",
       "      <td>SPC</td>\n",
       "      <td>5.100787e+09</td>\n",
       "      <td>DOWNGRADE</td>\n",
       "    </tr>\n",
       "    <tr>\n",
       "      <th>1</th>\n",
       "      <td>2019-01-01</td>\n",
       "      <td>MAECENAS MALESUADA INSTITUTE</td>\n",
       "      <td>CALL CENTER</td>\n",
       "      <td>B2C</td>\n",
       "      <td>MOVEL</td>\n",
       "      <td>CALCULO</td>\n",
       "      <td>SERVICO</td>\n",
       "      <td>MD BAIXA POS</td>\n",
       "      <td>-265.57</td>\n",
       "      <td>SPC</td>\n",
       "      <td>5.100787e+09</td>\n",
       "      <td>MD</td>\n",
       "    </tr>\n",
       "    <tr>\n",
       "      <th>2</th>\n",
       "      <td>2019-01-01</td>\n",
       "      <td>NULLAM LOBORTIS CORPORATION</td>\n",
       "      <td>CALL CENTER</td>\n",
       "      <td>B2C</td>\n",
       "      <td>MOVEL</td>\n",
       "      <td>CALCULO</td>\n",
       "      <td>SERVICO</td>\n",
       "      <td>AJUSTE MIGRACAO</td>\n",
       "      <td>-1777914.52</td>\n",
       "      <td>SPC</td>\n",
       "      <td>5.100787e+09</td>\n",
       "      <td>AJUSTE</td>\n",
       "    </tr>\n",
       "    <tr>\n",
       "      <th>3</th>\n",
       "      <td>2019-01-01</td>\n",
       "      <td>MAECENAS MALESUADA INSTITUTE</td>\n",
       "      <td>CALL CENTER</td>\n",
       "      <td>B2C</td>\n",
       "      <td>MOVEL</td>\n",
       "      <td>CALCULO</td>\n",
       "      <td>SERVICO</td>\n",
       "      <td>BAIXA PREMATURA MIGRACAO PRE SMARTVIVO CONTROLE</td>\n",
       "      <td>-7519.62</td>\n",
       "      <td>SPC</td>\n",
       "      <td>5.100787e+09</td>\n",
       "      <td>BAIXA</td>\n",
       "    </tr>\n",
       "    <tr>\n",
       "      <th>4</th>\n",
       "      <td>2019-01-01</td>\n",
       "      <td>MAECENAS MALESUADA INSTITUTE</td>\n",
       "      <td>CALL CENTER</td>\n",
       "      <td>B2C</td>\n",
       "      <td>MOVEL</td>\n",
       "      <td>CALCULO</td>\n",
       "      <td>SERVICO</td>\n",
       "      <td>UPGRADE POS PAGO</td>\n",
       "      <td>96.08</td>\n",
       "      <td>SPC</td>\n",
       "      <td>5.100787e+09</td>\n",
       "      <td>UPGRADE</td>\n",
       "    </tr>\n",
       "  </tbody>\n",
       "</table>\n",
       "</div>"
      ],
      "text/plain": [
       "  DT_REF_PAGAMENTO                  RAZAO_SOCIAL        CANAL SEGMENTO  \\\n",
       "0       2019-01-01   NULLAM LOBORTIS CORPORATION  CALL CENTER      B2C   \n",
       "1       2019-01-01  MAECENAS MALESUADA INSTITUTE  CALL CENTER      B2C   \n",
       "2       2019-01-01   NULLAM LOBORTIS CORPORATION  CALL CENTER      B2C   \n",
       "3       2019-01-01  MAECENAS MALESUADA INSTITUTE  CALL CENTER      B2C   \n",
       "4       2019-01-01  MAECENAS MALESUADA INSTITUTE  CALL CENTER      B2C   \n",
       "\n",
       "  OPERACAO DESC_FORMA_CALCULO DESC_TIPO_CALCULO  \\\n",
       "0    MOVEL            CALCULO           SERVICO   \n",
       "1    MOVEL            CALCULO           SERVICO   \n",
       "2    MOVEL            CALCULO           SERVICO   \n",
       "3    MOVEL            CALCULO           SERVICO   \n",
       "4    MOVEL            CALCULO           SERVICO   \n",
       "\n",
       "                                DESC_TIPO_COMISSAO      VALOR  SIGLA_REGIONAL  \\\n",
       "0                    DOWNGRADE DE UPGRADE CONTROLE    -5488.41            SPC   \n",
       "1                                     MD BAIXA POS     -265.57            SPC   \n",
       "2                                  AJUSTE MIGRACAO -1777914.52            SPC   \n",
       "3  BAIXA PREMATURA MIGRACAO PRE SMARTVIVO CONTROLE    -7519.62            SPC   \n",
       "4                                 UPGRADE POS PAGO       96.08            SPC   \n",
       "\n",
       "   NR_DOCUMENTO_SAP Macro_Tipo  \n",
       "0      5.100787e+09  DOWNGRADE  \n",
       "1      5.100787e+09         MD  \n",
       "2      5.100787e+09     AJUSTE  \n",
       "3      5.100787e+09      BAIXA  \n",
       "4      5.100787e+09    UPGRADE  "
      ]
     },
     "execution_count": 36,
     "metadata": {},
     "output_type": "execute_result"
    }
   ],
   "source": [
    "df_excel.head(5)"
   ]
  },
  {
   "cell_type": "code",
   "execution_count": 37,
   "id": "1860d93b",
   "metadata": {},
   "outputs": [
    {
     "data": {
      "text/html": [
       "<div>\n",
       "<style scoped>\n",
       "    .dataframe tbody tr th:only-of-type {\n",
       "        vertical-align: middle;\n",
       "    }\n",
       "\n",
       "    .dataframe tbody tr th {\n",
       "        vertical-align: top;\n",
       "    }\n",
       "\n",
       "    .dataframe thead th {\n",
       "        text-align: right;\n",
       "    }\n",
       "</style>\n",
       "<table border=\"1\" class=\"dataframe\">\n",
       "  <thead>\n",
       "    <tr style=\"text-align: right;\">\n",
       "      <th></th>\n",
       "      <th>DT_REF_PAGAMENTO</th>\n",
       "      <th>RAZAO_SOCIAL</th>\n",
       "      <th>CANAL</th>\n",
       "      <th>SEGMENTO</th>\n",
       "      <th>OPERACAO</th>\n",
       "      <th>DESC_FORMA_CALCULO</th>\n",
       "      <th>DESC_TIPO_CALCULO</th>\n",
       "      <th>DESC_TIPO_COMISSAO</th>\n",
       "      <th>VALOR</th>\n",
       "      <th>SIGLA_REGIONAL</th>\n",
       "      <th>NR_DOCUMENTO_SAP</th>\n",
       "      <th>Macro_Tipo</th>\n",
       "    </tr>\n",
       "  </thead>\n",
       "  <tbody>\n",
       "    <tr>\n",
       "      <th>106790</th>\n",
       "      <td>2020-03-01</td>\n",
       "      <td>PRETIUM ET RUTRUM CORP</td>\n",
       "      <td>REVENDA</td>\n",
       "      <td>B2C</td>\n",
       "      <td>MOVEL</td>\n",
       "      <td>CALCULO</td>\n",
       "      <td>SERVICO</td>\n",
       "      <td>BAIXA PREMATURA UPGRADE POS PAGO</td>\n",
       "      <td>-146.99</td>\n",
       "      <td>MG</td>\n",
       "      <td>150041522.0</td>\n",
       "      <td>BAIXA</td>\n",
       "    </tr>\n",
       "    <tr>\n",
       "      <th>106791</th>\n",
       "      <td>2020-03-01</td>\n",
       "      <td>EU NEQUE INSTITUTE</td>\n",
       "      <td>REVENDA</td>\n",
       "      <td>B2C</td>\n",
       "      <td>MOVEL</td>\n",
       "      <td>CALCULO</td>\n",
       "      <td>SERVICO</td>\n",
       "      <td>MD MIGRACAO POS</td>\n",
       "      <td>-</td>\n",
       "      <td>RS</td>\n",
       "      <td>150040140.0</td>\n",
       "      <td>MD</td>\n",
       "    </tr>\n",
       "    <tr>\n",
       "      <th>106792</th>\n",
       "      <td>2020-03-01</td>\n",
       "      <td>TEMPUS LIMITED</td>\n",
       "      <td>REVENDA</td>\n",
       "      <td>B2C</td>\n",
       "      <td>MOVEL</td>\n",
       "      <td>CALCULO</td>\n",
       "      <td>SERVICO</td>\n",
       "      <td>ALTA SMARTVIVO CONTROLE</td>\n",
       "      <td>348.42</td>\n",
       "      <td>MG</td>\n",
       "      <td>150041602.0</td>\n",
       "      <td>ALTA</td>\n",
       "    </tr>\n",
       "    <tr>\n",
       "      <th>106793</th>\n",
       "      <td>2020-03-01</td>\n",
       "      <td>EST MAURIS RHONCUS INDUSTRIES</td>\n",
       "      <td>REVENDA</td>\n",
       "      <td>B2C</td>\n",
       "      <td>MOVEL</td>\n",
       "      <td>CALCULO</td>\n",
       "      <td>SERVICO</td>\n",
       "      <td>CARTEIRA SMARTVIVO CONTROLE</td>\n",
       "      <td>326.7</td>\n",
       "      <td>CO/N</td>\n",
       "      <td>150041307.0</td>\n",
       "      <td>CARTEIRA</td>\n",
       "    </tr>\n",
       "    <tr>\n",
       "      <th>106794</th>\n",
       "      <td>2020-03-01</td>\n",
       "      <td>AT LIMITED</td>\n",
       "      <td>REVENDA</td>\n",
       "      <td>B2C</td>\n",
       "      <td>MOVEL</td>\n",
       "      <td>CALCULO</td>\n",
       "      <td>SERVICO</td>\n",
       "      <td>MIGRACAO PRE SMARTVIVO CONTROLE</td>\n",
       "      <td>135.96</td>\n",
       "      <td>MG</td>\n",
       "      <td>150041665.0</td>\n",
       "      <td>MIGRACAO</td>\n",
       "    </tr>\n",
       "  </tbody>\n",
       "</table>\n",
       "</div>"
      ],
      "text/plain": [
       "       DT_REF_PAGAMENTO                   RAZAO_SOCIAL    CANAL SEGMENTO  \\\n",
       "106790       2020-03-01         PRETIUM ET RUTRUM CORP  REVENDA      B2C   \n",
       "106791       2020-03-01             EU NEQUE INSTITUTE  REVENDA      B2C   \n",
       "106792       2020-03-01                 TEMPUS LIMITED  REVENDA      B2C   \n",
       "106793       2020-03-01  EST MAURIS RHONCUS INDUSTRIES  REVENDA      B2C   \n",
       "106794       2020-03-01                     AT LIMITED  REVENDA      B2C   \n",
       "\n",
       "       OPERACAO DESC_FORMA_CALCULO DESC_TIPO_CALCULO  \\\n",
       "106790    MOVEL            CALCULO           SERVICO   \n",
       "106791    MOVEL            CALCULO           SERVICO   \n",
       "106792    MOVEL            CALCULO           SERVICO   \n",
       "106793    MOVEL            CALCULO           SERVICO   \n",
       "106794    MOVEL            CALCULO           SERVICO   \n",
       "\n",
       "                      DESC_TIPO_COMISSAO  VALOR  SIGLA_REGIONAL  \\\n",
       "106790  BAIXA PREMATURA UPGRADE POS PAGO -146.99             MG   \n",
       "106791                   MD MIGRACAO POS    -                RS   \n",
       "106792           ALTA SMARTVIVO CONTROLE  348.42             MG   \n",
       "106793       CARTEIRA SMARTVIVO CONTROLE   326.7           CO/N   \n",
       "106794   MIGRACAO PRE SMARTVIVO CONTROLE  135.96             MG   \n",
       "\n",
       "        NR_DOCUMENTO_SAP Macro_Tipo  \n",
       "106790       150041522.0      BAIXA  \n",
       "106791       150040140.0         MD  \n",
       "106792       150041602.0       ALTA  \n",
       "106793       150041307.0   CARTEIRA  \n",
       "106794       150041665.0   MIGRACAO  "
      ]
     },
     "execution_count": 37,
     "metadata": {},
     "output_type": "execute_result"
    }
   ],
   "source": [
    "df_excel.tail(5)"
   ]
  },
  {
   "cell_type": "code",
   "execution_count": 38,
   "id": "2968ca73",
   "metadata": {},
   "outputs": [],
   "source": [
    "#df_excel.to_excel('df_VIVO.xlsx', index = False)"
   ]
  },
  {
   "cell_type": "code",
   "execution_count": 39,
   "id": "e0403295",
   "metadata": {},
   "outputs": [
    {
     "data": {
      "text/plain": [
       "VALOR                 1\n",
       "CANAL                 1\n",
       "SIGLA_REGIONAL        1\n",
       "DESC_FORMA_CALCULO    1\n",
       "DESC_TIPO_COMISSAO    1\n",
       "SEGMENTO              1\n",
       "RAZAO_SOCIAL          1\n",
       "OPERACAO              1\n",
       "DT_REF_PAGAMENTO      1\n",
       "DESC_TIPO_CALCULO     1\n",
       "NR_DOCUMENTO_SAP      1\n",
       "Macro_Tipo            1\n",
       "dtype: int64"
      ]
     },
     "execution_count": 39,
     "metadata": {},
     "output_type": "execute_result"
    }
   ],
   "source": [
    "df_excel.columns.str.strip().value_counts()"
   ]
  }
 ],
 "metadata": {
  "kernelspec": {
   "display_name": "Python 3 (ipykernel)",
   "language": "python",
   "name": "python3"
  },
  "language_info": {
   "codemirror_mode": {
    "name": "ipython",
    "version": 3
   },
   "file_extension": ".py",
   "mimetype": "text/x-python",
   "name": "python",
   "nbconvert_exporter": "python",
   "pygments_lexer": "ipython3",
   "version": "3.8.8"
  }
 },
 "nbformat": 4,
 "nbformat_minor": 5
}
